{
  "nbformat": 4,
  "nbformat_minor": 0,
  "metadata": {
    "colab": {
      "name": "Python Project.ipynb",
      "provenance": [],
      "collapsed_sections": []
    },
    "kernelspec": {
      "name": "python3",
      "display_name": "Python 3"
    },
    "language_info": {
      "name": "python"
    }
  },
  "cells": [
    {
      "cell_type": "markdown",
      "metadata": {
        "id": "63vMZPeYZJqg"
      },
      "source": [
        "#Inventory Management System"
      ]
    },
    {
      "cell_type": "markdown",
      "metadata": {
        "id": "Nuats-87yf1p"
      },
      "source": [
        "#DJ'S Supermarket\n",
        "\n"
      ]
    },
    {
      "cell_type": "markdown",
      "metadata": {
        "id": "Nbg5uvfVZYHI"
      },
      "source": [
        "#Creating an Inventory"
      ]
    },
    {
      "cell_type": "code",
      "metadata": {
        "id": "ibaF62t_Wi1G"
      },
      "source": [
        "inventory = { 101 : {\"name\": \"Sugar 1 kg\" , \"price\": 45, \"quantity\" : 550, \"Brand Name\":\"Parry's\", \"Product Description\": \"Seasoning Product\"},\n",
        "              102 : {\"name\": \"Salt 1 kg\" , \"price\": 22, \"quantity\" : 450, \"Brand Name\":\"Tata Salt\", \"Product Description\": \"Seasoning Product\"},\n",
        "              103 : {\"name\": \"Tamarind 250 g\" , \"price\": 25, \"quantity\" : 250, \"Brand Name\":\"Stylo Tamarind\", \"Product Description\": \"Seasoning Product\"},\n",
        "              104 : {\"name\": \"Black Pepper 100 g\" , \"price\": 95, \"quantity\" : 150, \"Brand Name\":\"Spice Forest\", \"Product Description\": \"Spice\"},\n",
        "              105 : {\"name\": \"Clove 100 g\" , \"price\": 86, \"quantity\" : 220, \"Brand Name\":\"Jk Clove\", \"Product Description\": \"Spice\"},\n",
        "              106 : {\"name\": \"Cardamom 100 g\" , \"price\": 100, \"quantity\" : 340, \"Brand Name\":\"Shree Elachi\", \"Product Description\": \"Spice\"},\n",
        "              107 : {\"name\": \"Rice 5 kg\" , \"price\": 300, \"quantity\" : 650, \"Brand Name\":\"India Gate\", \"Product Description\": \"Grains\"},\n",
        "              108 : {\"name\": \"Basmati Rice 1 kg\" , \"price\": 89, \"quantity\" : 350, \"Brand Name\":\"India Gate\", \"Product Description\": \"Grains\"},\n",
        "              109 : {\"name\": \"Green Gram 250 g\" , \"price\": 75, \"quantity\" : 261, \"Brand Name\":\"Tata  Sampann\", \"Product Description\": \"Grains\"},\n",
        "              110 : {\"name\": \"Black Gram 1 kg\" , \"price\": 118, \"quantity\" : 490, \"Brand Name\":\"Double Horse\", \"Product Description\": \"Grains\"},\n",
        "              111 : {\"name\": \"Wheat Flour 1 kg\" , \"price\": 51, \"quantity\" : 376, \"Brand Name\":\"Aashirvaad\", \"Product Description\": \"Flour\"},\n",
        "              112 : {\"name\": \"Rice Flour 1 kg\" , \"price\": 45, \"quantity\" : 106, \"Brand Name\":\"Nirapara\", \"Product Description\": \"Flour\"},\n",
        "              113 : {\"name\": \"sunflower Oil 1 L\" , \"price\": 165, \"quantity\" : 610, \"Brand Name\":\"Mr.Gold\", \"Product Description\": \"Oil\"},\n",
        "              114 : {\"name\": \"Groundnut Oil 1 L\" , \"price\": 190, \"quantity\" : 378, \"Brand Name\":\"Ganapathy\", \"Product Description\": \"Oil\"},\n",
        "              115 : {\"name\": \"Coconut Oil 1 L\" , \"price\": 324, \"quantity\" : 467, \"Brand Name\":\"Parachute\", \"Product Description\": \"Oil\"},\n",
        "              116 : {\"name\": \"Ghee 1 L\" , \"price\": 690, \"quantity\" : 168, \"Brand Name\":\"GRB\", \"Product Description\": \"Ghee\"},\n",
        "              117 : {\"name\": \"Dettol Soap\" , \"price\": 58, \"quantity\" : 783, \"Brand Name\":\"Dettol\", \"Product Description\": \"Soap\"},\n",
        "              118 : {\"name\": \"Medimix Soap\" , \"price\": 28, \"quantity\" : 673, \"Brand Name\":\"Medimix\", \"Product Description\": \"Soap\"},\n",
        "              119 : {\"name\": \"Rin Soap\" , \"price\": 16, \"quantity\" : 760, \"Brand Name\":\"Rin\", \"Product Description\": \"Soap\"},\n",
        "              120 : {\"name\": \"Surf Excel Soap\" , \"price\": 27, \"quantity\" : 463, \"Brand Name\":\"Surf Excel\", \"Product Description\": \"Soap\"},\n",
        "              121 : {\"name\": \"Vim Soap\" , \"price\": 10, \"quantity\" : 642, \"Brand Name\":\"Vim\", \"Product Description\": \"Soap\"},\n",
        "              122 : {\"name\": \"Colgate Paste\" , \"price\": 90, \"quantity\" : 679, \"Brand Name\":\"Colgate\", \"Product Description\": \"Toothpaste\"},\n",
        "              123 : {\"name\": \"Fogg Spray\" , \"price\": 130, \"quantity\" : 163, \"Brand Name\":\"Fogg\", \"Product Description\": \"Body Spray\"},\n",
        "              124 : {\"name\": \"Nivea Men Spray\" , \"price\": 139, \"quantity\" : 63, \"Brand Name\":\"Nivea\", \"Product Description\": \"Body Spray\"},\n",
        "              125 : {\"name\": \"Ponds Powder\" , \"price\": 120, \"quantity\" : 403, \"Brand Name\":\"Ponds\", \"Product Description\": \"Beauty Products\"},\n",
        "              126 : {\"name\": \"Nivea Musk Talc\" , \"price\": 125, \"quantity\" : 264, \"Brand Name\":\"Nivea\", \"Product Description\": \"Beauty Products\"},\n",
        "              127 : {\"name\": \"Sensodyne Paste\" , \"price\": 110, \"quantity\" : 679, \"Brand Name\":\"Sensodyne\", \"Product Description\": \"Toothpaste\"},\n",
        "              128 : {\"name\": \"Cashew Nut 250 g\" , \"price\": 310, \"quantity\" : 134, \"Brand Name\":\"Solimo\", \"Product Description\": \"Nuts and Dry Fruit\"},\n",
        "              129 : {\"name\": \"Raisins 250 g\" , \"price\": 120, \"quantity\" : 160, \"Brand Name\":\"Solimo\", \"Product Description\": \"Nuts and Dry Fruit\"},\n",
        "              130 : {\"name\": \"Almonds 250 g\" , \"price\": 315, \"quantity\" : 129, \"Brand Name\":\"Solimo\", \"Product Description\": \"Nuts and Dry Fruit\"}}"
      ],
      "execution_count": 24,
      "outputs": []
    },
    {
      "cell_type": "markdown",
      "metadata": {
        "id": "N8W0aDl0Zexd"
      },
      "source": [
        "#Importing json Library"
      ]
    },
    {
      "cell_type": "code",
      "metadata": {
        "id": "-RsZ9ErkYCLU"
      },
      "source": [
        "import json"
      ],
      "execution_count": 25,
      "outputs": []
    },
    {
      "cell_type": "code",
      "metadata": {
        "id": "OhG6LemLYG-B"
      },
      "source": [
        "js = json.dumps(inventory)"
      ],
      "execution_count": 26,
      "outputs": []
    },
    {
      "cell_type": "markdown",
      "metadata": {
        "id": "dsMskO-eZrN8"
      },
      "source": [
        "#Creating a json File"
      ]
    },
    {
      "cell_type": "code",
      "metadata": {
        "id": "1Gjf686aYRE5"
      },
      "source": [
        "fd = open(\"inventory.json\",'w')\n",
        "\n",
        "fd.write(js)\n",
        "\n",
        "fd.close()"
      ],
      "execution_count": 27,
      "outputs": []
    },
    {
      "cell_type": "code",
      "metadata": {
        "id": "cs8Bjns2YciB"
      },
      "source": [
        "fd = open(\"inventory.json\",'r')\n",
        "\n",
        "txt = fd.read()\n",
        "\n",
        "fd.close()"
      ],
      "execution_count": 28,
      "outputs": []
    },
    {
      "cell_type": "code",
      "metadata": {
        "colab": {
          "base_uri": "https://localhost:8080/",
          "height": 122
        },
        "id": "zPhtoUH0Y2LJ",
        "outputId": "0484c705-86ca-49fe-8603-03ac179ca2df"
      },
      "source": [
        "txt"
      ],
      "execution_count": 29,
      "outputs": [
        {
          "output_type": "execute_result",
          "data": {
            "text/plain": [
              "'{\"101\": {\"name\": \"Sugar 1 kg\", \"price\": 45, \"quantity\": 550, \"Brand Name\": \"Parry\\'s\", \"Product Description\": \"Seasoning Product\"}, \"102\": {\"name\": \"Salt 1 kg\", \"price\": 22, \"quantity\": 450, \"Brand Name\": \"Tata Salt\", \"Product Description\": \"Seasoning Product\"}, \"103\": {\"name\": \"Tamarind 250 g\", \"price\": 25, \"quantity\": 250, \"Brand Name\": \"Stylo Tamarind\", \"Product Description\": \"Seasoning Product\"}, \"104\": {\"name\": \"Black Pepper 100 g\", \"price\": 95, \"quantity\": 150, \"Brand Name\": \"Spice Forest\", \"Product Description\": \"Spice\"}, \"105\": {\"name\": \"Clove 100 g\", \"price\": 86, \"quantity\": 220, \"Brand Name\": \"Jk Clove\", \"Product Description\": \"Spice\"}, \"106\": {\"name\": \"Cardamom 100 g\", \"price\": 100, \"quantity\": 340, \"Brand Name\": \"Shree Elachi\", \"Product Description\": \"Spice\"}, \"107\": {\"name\": \"Rice 5 kg\", \"price\": 300, \"quantity\": 650, \"Brand Name\": \"India Gate\", \"Product Description\": \"Grains\"}, \"108\": {\"name\": \"Basmati Rice 1 kg\", \"price\": 89, \"quantity\": 350, \"Brand Name\": \"India Gate\", \"Product Description\": \"Grains\"}, \"109\": {\"name\": \"Green Gram 250 g\", \"price\": 75, \"quantity\": 261, \"Brand Name\": \"Tata  Sampann\", \"Product Description\": \"Grains\"}, \"110\": {\"name\": \"Black Gram 1 kg\", \"price\": 118, \"quantity\": 490, \"Brand Name\": \"Double Horse\", \"Product Description\": \"Grains\"}, \"111\": {\"name\": \"Wheat Flour 1 kg\", \"price\": 51, \"quantity\": 376, \"Brand Name\": \"Aashirvaad\", \"Product Description\": \"Flour\"}, \"112\": {\"name\": \"Rice Flour 1 kg\", \"price\": 45, \"quantity\": 106, \"Brand Name\": \"Nirapara\", \"Product Description\": \"Flour\"}, \"113\": {\"name\": \"sunflower Oil 1 L\", \"price\": 165, \"quantity\": 610, \"Brand Name\": \"Mr.Gold\", \"Product Description\": \"Oil\"}, \"114\": {\"name\": \"Groundnut Oil 1 L\", \"price\": 190, \"quantity\": 378, \"Brand Name\": \"Ganapathy\", \"Product Description\": \"Oil\"}, \"115\": {\"name\": \"Coconut Oil 1 L\", \"price\": 324, \"quantity\": 467, \"Brand Name\": \"Parachute\", \"Product Description\": \"Oil\"}, \"116\": {\"name\": \"Ghee 1 L\", \"price\": 690, \"quantity\": 168, \"Brand Name\": \"GRB\", \"Product Description\": \"Ghee\"}, \"117\": {\"name\": \"Dettol Soap\", \"price\": 58, \"quantity\": 783, \"Brand Name\": \"Dettol\", \"Product Description\": \"Soap\"}, \"118\": {\"name\": \"Medimix Soap\", \"price\": 28, \"quantity\": 673, \"Brand Name\": \"Medimix\", \"Product Description\": \"Soap\"}, \"119\": {\"name\": \"Rin Soap\", \"price\": 16, \"quantity\": 760, \"Brand Name\": \"Rin\", \"Product Description\": \"Soap\"}, \"120\": {\"name\": \"Surf Excel Soap\", \"price\": 27, \"quantity\": 463, \"Brand Name\": \"Surf Excel\", \"Product Description\": \"Soap\"}, \"121\": {\"name\": \"Vim Soap\", \"price\": 10, \"quantity\": 642, \"Brand Name\": \"Vim\", \"Product Description\": \"Soap\"}, \"122\": {\"name\": \"Colgate Paste\", \"price\": 90, \"quantity\": 679, \"Brand Name\": \"Colgate\", \"Product Description\": \"Toothpaste\"}, \"123\": {\"name\": \"Fogg Spray\", \"price\": 130, \"quantity\": 163, \"Brand Name\": \"Fogg\", \"Product Description\": \"Body Spray\"}, \"124\": {\"name\": \"Nivea Men Spray\", \"price\": 139, \"quantity\": 63, \"Brand Name\": \"Nivea\", \"Product Description\": \"Body Spray\"}, \"125\": {\"name\": \"Ponds Powder\", \"price\": 120, \"quantity\": 403, \"Brand Name\": \"Ponds\", \"Product Description\": \"Beauty Products\"}, \"126\": {\"name\": \"Nivea Musk Talc\", \"price\": 125, \"quantity\": 264, \"Brand Name\": \"Nivea\", \"Product Description\": \"Beauty Products\"}, \"127\": {\"name\": \"Sensodyne Paste\", \"price\": 110, \"quantity\": 679, \"Brand Name\": \"Sensodyne\", \"Product Description\": \"Toothpaste\"}, \"128\": {\"name\": \"Cashew Nut 250 g\", \"price\": 310, \"quantity\": 134, \"Brand Name\": \"Solimo\", \"Product Description\": \"Nuts and Dry Fruit\"}, \"129\": {\"name\": \"Raisins 250 g\", \"price\": 120, \"quantity\": 160, \"Brand Name\": \"Solimo\", \"Product Description\": \"Nuts and Dry Fruit\"}, \"130\": {\"name\": \"Almonds 250 g\", \"price\": 315, \"quantity\": 129, \"Brand Name\": \"Solimo\", \"Product Description\": \"Nuts and Dry Fruit\"}}'"
            ],
            "application/vnd.google.colaboratory.intrinsic+json": {
              "type": "string"
            }
          },
          "metadata": {},
          "execution_count": 29
        }
      ]
    },
    {
      "cell_type": "code",
      "metadata": {
        "id": "1weLmJNGY-pw"
      },
      "source": [
        "record = json.loads(txt)"
      ],
      "execution_count": 30,
      "outputs": []
    },
    {
      "cell_type": "code",
      "metadata": {
        "colab": {
          "base_uri": "https://localhost:8080/"
        },
        "id": "oNCupnVWZ27k",
        "outputId": "0c02a674-4b54-444a-d396-6db2efce4dc6"
      },
      "source": [
        "record"
      ],
      "execution_count": 31,
      "outputs": [
        {
          "output_type": "execute_result",
          "data": {
            "text/plain": [
              "{'101': {'Brand Name': \"Parry's\",\n",
              "  'Product Description': 'Seasoning Product',\n",
              "  'name': 'Sugar 1 kg',\n",
              "  'price': 45,\n",
              "  'quantity': 550},\n",
              " '102': {'Brand Name': 'Tata Salt',\n",
              "  'Product Description': 'Seasoning Product',\n",
              "  'name': 'Salt 1 kg',\n",
              "  'price': 22,\n",
              "  'quantity': 450},\n",
              " '103': {'Brand Name': 'Stylo Tamarind',\n",
              "  'Product Description': 'Seasoning Product',\n",
              "  'name': 'Tamarind 250 g',\n",
              "  'price': 25,\n",
              "  'quantity': 250},\n",
              " '104': {'Brand Name': 'Spice Forest',\n",
              "  'Product Description': 'Spice',\n",
              "  'name': 'Black Pepper 100 g',\n",
              "  'price': 95,\n",
              "  'quantity': 150},\n",
              " '105': {'Brand Name': 'Jk Clove',\n",
              "  'Product Description': 'Spice',\n",
              "  'name': 'Clove 100 g',\n",
              "  'price': 86,\n",
              "  'quantity': 220},\n",
              " '106': {'Brand Name': 'Shree Elachi',\n",
              "  'Product Description': 'Spice',\n",
              "  'name': 'Cardamom 100 g',\n",
              "  'price': 100,\n",
              "  'quantity': 340},\n",
              " '107': {'Brand Name': 'India Gate',\n",
              "  'Product Description': 'Grains',\n",
              "  'name': 'Rice 5 kg',\n",
              "  'price': 300,\n",
              "  'quantity': 650},\n",
              " '108': {'Brand Name': 'India Gate',\n",
              "  'Product Description': 'Grains',\n",
              "  'name': 'Basmati Rice 1 kg',\n",
              "  'price': 89,\n",
              "  'quantity': 350},\n",
              " '109': {'Brand Name': 'Tata  Sampann',\n",
              "  'Product Description': 'Grains',\n",
              "  'name': 'Green Gram 250 g',\n",
              "  'price': 75,\n",
              "  'quantity': 261},\n",
              " '110': {'Brand Name': 'Double Horse',\n",
              "  'Product Description': 'Grains',\n",
              "  'name': 'Black Gram 1 kg',\n",
              "  'price': 118,\n",
              "  'quantity': 490},\n",
              " '111': {'Brand Name': 'Aashirvaad',\n",
              "  'Product Description': 'Flour',\n",
              "  'name': 'Wheat Flour 1 kg',\n",
              "  'price': 51,\n",
              "  'quantity': 376},\n",
              " '112': {'Brand Name': 'Nirapara',\n",
              "  'Product Description': 'Flour',\n",
              "  'name': 'Rice Flour 1 kg',\n",
              "  'price': 45,\n",
              "  'quantity': 106},\n",
              " '113': {'Brand Name': 'Mr.Gold',\n",
              "  'Product Description': 'Oil',\n",
              "  'name': 'sunflower Oil 1 L',\n",
              "  'price': 165,\n",
              "  'quantity': 610},\n",
              " '114': {'Brand Name': 'Ganapathy',\n",
              "  'Product Description': 'Oil',\n",
              "  'name': 'Groundnut Oil 1 L',\n",
              "  'price': 190,\n",
              "  'quantity': 378},\n",
              " '115': {'Brand Name': 'Parachute',\n",
              "  'Product Description': 'Oil',\n",
              "  'name': 'Coconut Oil 1 L',\n",
              "  'price': 324,\n",
              "  'quantity': 467},\n",
              " '116': {'Brand Name': 'GRB',\n",
              "  'Product Description': 'Ghee',\n",
              "  'name': 'Ghee 1 L',\n",
              "  'price': 690,\n",
              "  'quantity': 168},\n",
              " '117': {'Brand Name': 'Dettol',\n",
              "  'Product Description': 'Soap',\n",
              "  'name': 'Dettol Soap',\n",
              "  'price': 58,\n",
              "  'quantity': 783},\n",
              " '118': {'Brand Name': 'Medimix',\n",
              "  'Product Description': 'Soap',\n",
              "  'name': 'Medimix Soap',\n",
              "  'price': 28,\n",
              "  'quantity': 673},\n",
              " '119': {'Brand Name': 'Rin',\n",
              "  'Product Description': 'Soap',\n",
              "  'name': 'Rin Soap',\n",
              "  'price': 16,\n",
              "  'quantity': 760},\n",
              " '120': {'Brand Name': 'Surf Excel',\n",
              "  'Product Description': 'Soap',\n",
              "  'name': 'Surf Excel Soap',\n",
              "  'price': 27,\n",
              "  'quantity': 463},\n",
              " '121': {'Brand Name': 'Vim',\n",
              "  'Product Description': 'Soap',\n",
              "  'name': 'Vim Soap',\n",
              "  'price': 10,\n",
              "  'quantity': 642},\n",
              " '122': {'Brand Name': 'Colgate',\n",
              "  'Product Description': 'Toothpaste',\n",
              "  'name': 'Colgate Paste',\n",
              "  'price': 90,\n",
              "  'quantity': 679},\n",
              " '123': {'Brand Name': 'Fogg',\n",
              "  'Product Description': 'Body Spray',\n",
              "  'name': 'Fogg Spray',\n",
              "  'price': 130,\n",
              "  'quantity': 163},\n",
              " '124': {'Brand Name': 'Nivea',\n",
              "  'Product Description': 'Body Spray',\n",
              "  'name': 'Nivea Men Spray',\n",
              "  'price': 139,\n",
              "  'quantity': 63},\n",
              " '125': {'Brand Name': 'Ponds',\n",
              "  'Product Description': 'Beauty Products',\n",
              "  'name': 'Ponds Powder',\n",
              "  'price': 120,\n",
              "  'quantity': 403},\n",
              " '126': {'Brand Name': 'Nivea',\n",
              "  'Product Description': 'Beauty Products',\n",
              "  'name': 'Nivea Musk Talc',\n",
              "  'price': 125,\n",
              "  'quantity': 264},\n",
              " '127': {'Brand Name': 'Sensodyne',\n",
              "  'Product Description': 'Toothpaste',\n",
              "  'name': 'Sensodyne Paste',\n",
              "  'price': 110,\n",
              "  'quantity': 679},\n",
              " '128': {'Brand Name': 'Solimo',\n",
              "  'Product Description': 'Nuts and Dry Fruit',\n",
              "  'name': 'Cashew Nut 250 g',\n",
              "  'price': 310,\n",
              "  'quantity': 134},\n",
              " '129': {'Brand Name': 'Solimo',\n",
              "  'Product Description': 'Nuts and Dry Fruit',\n",
              "  'name': 'Raisins 250 g',\n",
              "  'price': 120,\n",
              "  'quantity': 160},\n",
              " '130': {'Brand Name': 'Solimo',\n",
              "  'Product Description': 'Nuts and Dry Fruit',\n",
              "  'name': 'Almonds 250 g',\n",
              "  'price': 315,\n",
              "  'quantity': 129}}"
            ]
          },
          "metadata": {},
          "execution_count": 31
        }
      ]
    },
    {
      "cell_type": "markdown",
      "metadata": {
        "id": "yhPt_a53B7kO"
      },
      "source": [
        "#Updating items to inventory"
      ]
    },
    {
      "cell_type": "code",
      "metadata": {
        "colab": {
          "base_uri": "https://localhost:8080/"
        },
        "id": "PBpjohwUCDN-",
        "outputId": "a75e70f6-6329-4b63-b0d2-64d4c39ecb6a"
      },
      "source": [
        "prod_id = input(\"Enter product id:\")"
      ],
      "execution_count": 32,
      "outputs": [
        {
          "name": "stdout",
          "output_type": "stream",
          "text": [
            "Enter product id:105\n"
          ]
        }
      ]
    },
    {
      "cell_type": "code",
      "metadata": {
        "colab": {
          "base_uri": "https://localhost:8080/"
        },
        "id": "-Zvqtd5rB7Oo",
        "outputId": "60894395-d8df-45e0-e928-eff6da8e0150"
      },
      "source": [
        "if (prod_id in record.keys()):\n",
        "  quan = int(input(\"enter the quantity of items:\"))\n",
        "  record[prod_id]['quantity']+=quan\n",
        "  print(\"Item quantity updated\")\n",
        "else:\n",
        "  print(\"No item exists\")"
      ],
      "execution_count": 33,
      "outputs": [
        {
          "output_type": "stream",
          "name": "stdout",
          "text": [
            "enter the quantity of items:15\n",
            "Item quantity updated\n"
          ]
        }
      ]
    },
    {
      "cell_type": "code",
      "metadata": {
        "colab": {
          "base_uri": "https://localhost:8080/"
        },
        "id": "L8oBvratF4yk",
        "outputId": "e9f9d1f9-370f-4cc3-d12b-c2c75c538062"
      },
      "source": [
        "len(record.keys())"
      ],
      "execution_count": 34,
      "outputs": [
        {
          "output_type": "execute_result",
          "data": {
            "text/plain": [
              "30"
            ]
          },
          "metadata": {},
          "execution_count": 34
        }
      ]
    },
    {
      "cell_type": "code",
      "metadata": {
        "id": "G4xdlahSDQ2x"
      },
      "source": [
        "js = json.dumps(record)"
      ],
      "execution_count": 35,
      "outputs": []
    },
    {
      "cell_type": "code",
      "metadata": {
        "id": "UgNMZRDZDk-F"
      },
      "source": [
        "fd = open('inventory.json','w')\n",
        "\n",
        "fd.write(js)\n",
        "\n",
        "fd.close()"
      ],
      "execution_count": 36,
      "outputs": []
    },
    {
      "cell_type": "markdown",
      "metadata": {
        "id": "48uQMD8trPqG"
      },
      "source": [
        "#DJ'S Supermarket Billing\n"
      ]
    },
    {
      "cell_type": "code",
      "metadata": {
        "id": "KeKjtHh2reuc"
      },
      "source": [
        "import time"
      ],
      "execution_count": 37,
      "outputs": []
    },
    {
      "cell_type": "code",
      "metadata": {
        "id": "VXJzjFJDwvXD"
      },
      "source": [
        "sales = []"
      ],
      "execution_count": 38,
      "outputs": []
    },
    {
      "cell_type": "code",
      "metadata": {
        "colab": {
          "base_uri": "https://localhost:8080/"
        },
        "id": "gBnGgRyicBlp",
        "outputId": "2806afb3-9ce3-40b9-e558-c47492ffb134"
      },
      "source": [
        "prod_id  = input(\"Enter the product_Id: \")\n",
        "quant = int(input(\"Enter the quantity: \"))"
      ],
      "execution_count": 39,
      "outputs": [
        {
          "name": "stdout",
          "output_type": "stream",
          "text": [
            "Enter the product_Id: 104\n",
            "Enter the quantity: 11\n"
          ]
        }
      ]
    },
    {
      "cell_type": "code",
      "metadata": {
        "colab": {
          "base_uri": "https://localhost:8080/"
        },
        "id": "Bj8HbrC80G-d",
        "outputId": "b104cb53-8827-460d-d46d-da94dbcb8b64"
      },
      "source": [
        "print(\"***********************\")\n",
        "print(\"DJ Supermarket\")\n",
        "print(time.ctime())\n",
        "print(\"Product ID: \", prod_id)\n",
        "print(\"Name: \", record[prod_id]['name'])\n",
        "print(\"Price: \",record[prod_id]['price'])\n",
        "print(\"Quantity: \",quant)\n",
        "print(\"------------------------\")\n",
        "bill_amt =  quant * record[prod_id]['price']\n",
        "print(\"Billing Amout: \",  bill_amt)\n",
        "print(\"***********************\")\n",
        "\n",
        "sales.append(bill_amt)\n",
        "\n",
        "record[prod_id]['quantity']-=quant\n",
        "js = json.dumps(record)\n",
        "fd = open('inventory.json','w')\n",
        "\n",
        "fd.write(js)\n",
        "\n",
        "fd.close()\n"
      ],
      "execution_count": 40,
      "outputs": [
        {
          "output_type": "stream",
          "name": "stdout",
          "text": [
            "***********************\n",
            "DJ Supermarket\n",
            "Thu Mar 24 16:37:35 2022\n",
            "Product ID:  104\n",
            "Name:  Black Pepper 100 g\n",
            "Price:  95\n",
            "Quantity:  11\n",
            "------------------------\n",
            "Billing Amout:  1045\n",
            "***********************\n"
          ]
        }
      ]
    },
    {
      "cell_type": "markdown",
      "metadata": {
        "id": "nPvDn64Zxyti"
      },
      "source": [
        "#Total sales"
      ]
    },
    {
      "cell_type": "code",
      "metadata": {
        "colab": {
          "base_uri": "https://localhost:8080/"
        },
        "id": "a_SmiOE3yPkh",
        "outputId": "906b57b2-9902-4ccd-80c4-8094017e39ba"
      },
      "source": [
        "sales"
      ],
      "execution_count": 41,
      "outputs": [
        {
          "output_type": "execute_result",
          "data": {
            "text/plain": [
              "[1045]"
            ]
          },
          "metadata": {},
          "execution_count": 41
        }
      ]
    },
    {
      "cell_type": "code",
      "metadata": {
        "colab": {
          "base_uri": "https://localhost:8080/"
        },
        "id": "kQDmqTGPstJU",
        "outputId": "40933226-f4f1-45d2-8696-ec3078756ffa"
      },
      "source": [
        "print(\"***********************\")\n",
        "print(\"DJ Supermarket\")\n",
        "print(time.ctime())\n",
        "print ('Total sales:  ', sum(sales))\n",
        "print(\"***********************\")"
      ],
      "execution_count": 42,
      "outputs": [
        {
          "output_type": "stream",
          "name": "stdout",
          "text": [
            "***********************\n",
            "DJ Supermarket\n",
            "Thu Mar 24 16:37:35 2022\n",
            "Total sales:   1045\n",
            "***********************\n"
          ]
        }
      ]
    },
    {
      "cell_type": "markdown",
      "metadata": {
        "id": "vwVM_AwZFdKf"
      },
      "source": [
        "#Adding items to the inventory\n"
      ]
    },
    {
      "cell_type": "code",
      "metadata": {
        "id": "_N-eJaL10tPc"
      },
      "source": [
        "product_id = len(record.keys())"
      ],
      "execution_count": 43,
      "outputs": []
    }
  ]
}